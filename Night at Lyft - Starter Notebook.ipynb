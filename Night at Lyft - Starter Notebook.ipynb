{
 "cells": [
  {
   "cell_type": "markdown",
   "metadata": {},
   "source": [
    "# Night at Lyft - Python Starter Notebook\n",
    "\n",
    "## Overview"
   ]
  },
  {
   "cell_type": "markdown",
   "metadata": {},
   "source": [
    "In this notebook, you will find <strong>2 functions to explore Bauer Taxi Service's data</strong> to help you make your Lyft pricing strategies, and <strong>2 functions that help you submit your Lyft pricing strategies</strong> to the game server. Read the remaning sections below, follow the quick code \"Example\" sections, and then write your own code in the space provided below to start playing the game.\n",
    "\n",
    "<strong>Objective:</strong> You are launching Lyft in a new, fictitious city and competing against the existing Bauer Taxi Service to get their riders onto Lyft. In this game, you have access to Bauer's taxi rides, and want to analyze their data to develop a good pricing strategy for Lyft so that you can get Lyft more riders. Each phase of the game is called a \"simulation\" week. During each simulation, you will have access to data for all of Bauer's taxi rides that happened in the past up to the last day of the current simulation. Your goal is to analyze the data available to you in each simulation in whatever way you want, and then submit a pricing strategy that you think will convince the riders of this fictitious city to join Lyft. Then, after the ACM team ends the current simulation, you'll see how many riders you convinced to join Lyft (reported in revenue), who may have otherwise used Bauer's taxi service. <strong>Remember, you're competing</strong> against your classmates who are all also trying to get riders for Lyft, so you'll see how your strategy compares to theirs.\n",
    "\n",
    "<strong>Definitions:</strong> \n",
    "<ul>\n",
    "    <li><strong><i>Taxi Ride Data</i></strong> A collection of Bauer's taxi ride information you get back from the get_trips(query) function.</li>\n",
    "    <li><strong><i>Simulation</i></strong> A week in time for which you have access to taxi ride data for. The ACM team controls what week you will get data for. There are 4 simulation weeks. You will submit a pricing strategy for each one. \n",
    "    <ul>\n",
    "    <li>Simulation #1: 03/03/2019 to 03/09/2019</li><li>Simulation #2: 03/10/2019 to 03/16/2019</li><li>Simulation #3: 03/17/2019 to 03/23/2019</li><li>Simulation #4: 03/24/2019 to 03/30/2019</li>\n",
    "    </ul>\n",
    "    </li>\n",
    "</ul>\n",
    "\n",
    "<h2>2 Data Exploration Functions</h2>\n",
    "<ul>\n",
    "    <li><strong>get_trips(query)</strong></li>\n",
    "        <ul>\n",
    "            <li>Returns the taxi rides that occured with the criterion specified.</li>\n",
    "        </ul>\n",
    "    <li><strong>get_count(query)</strong></li>\n",
    "        <ul>\n",
    "            <li>Returns the total amount of trips that occured during a certain time period.</li>\n",
    "        </ul>\n",
    "</ul>\n",
    "<br>\n",
    "<h2>2 Pricing Strategy Submission Functions</h2>\n",
    "<ul>\n",
    "    <li><strong>set_pricing(pricing)</strong></li>\n",
    "        <ul>\n",
    "            <li>Submits your team's Lyft pricing strategy.</li>\n",
    "        </ul>\n",
    "    <li><strong>set_zones(zones)</strong></li>\n",
    "        <ul>\n",
    "            <li>Submits the second component of your pricing strategy: the areas you select as power zones.</li>\n",
    "        </ul>\n",
    "</ul>\n",
    "<h2>How to Play (6 steps):</h2> \n",
    "<ol>\n",
    "    <li>Ensure a simulation is currently happening.</li>\n",
    "    <li>Explore the taxi ride data for the current simulation, using the 2 <strong>data exploration</strong> functions above to look at taxi ride data and then do data analysis to help you develop your ride pricing strategy.</li>\n",
    "    <li>Consider what power zones you want to use for your submission for the current simulation.</li>\n",
    "    <li>Submit your pricing strategy, using the 2 <strong>submission functions</strong> above.</li>\n",
    "    <li>After the ACM team ends the current simulation, view your revenue generated (the results) on the diagram (https://acmillinoistech.github.io/lyftboard/#/leaderboard)  shown when the ACM team ends the current simulation.</li>\n",
    "    <li>Repeat this process for all 4 simulations.</li>\n",
    "</ol>"
   ]
  },
  {
   "cell_type": "markdown",
   "metadata": {},
   "source": [
    "## Team Name"
   ]
  },
  {
   "cell_type": "code",
   "execution_count": 57,
   "metadata": {
    "collapsed": true
   },
   "outputs": [],
   "source": [
    "TEAM = \"test\""
   ]
  },
  {
   "cell_type": "markdown",
   "metadata": {},
   "source": [
    "## Setup - DO NOT CHANGE"
   ]
  },
  {
   "cell_type": "code",
   "execution_count": 58,
   "metadata": {
    "collapsed": true
   },
   "outputs": [],
   "source": [
    "import requests\n",
    "import pandas as pd\n",
    "from datetime import datetime\n",
    "\n",
    "URL = \"https://lyftserver--acmiit.repl.co\"\n",
    "\n",
    "### Data Exploration Functions ###\n",
    "def get_trips(query):\n",
    "    query[\"team\"] = TEAM\n",
    "    response = requests.get(URL + \"/trips/\", params=query)\n",
    "    return response.json()\n",
    "\n",
    "def get_count(query):\n",
    "    query[\"team\"] = TEAM\n",
    "    response = requests.get(URL + \"/count/\", params=query)\n",
    "    return response.json()\n",
    "\n",
    "### Pricing Strategy Submission Functions ###\n",
    "def set_pricing(pricing):\n",
    "    query = pricing;\n",
    "    query[\"team\"] = TEAM;\n",
    "    response = requests.post(URL + \"/pricing/\", params=query)\n",
    "    return response.json()\n",
    "\n",
    "def set_zones(zones):\n",
    "    zone_list = (\",\").join(str(z) for z in zones)\n",
    "    query = {\n",
    "        \"team\": TEAM,\n",
    "        \"zones\": zone_list\n",
    "    }\n",
    "    response = requests.post(URL + \"/zones/\", params=query)\n",
    "    return response.json()"
   ]
  },
  {
   "cell_type": "markdown",
   "metadata": {},
   "source": [
    "## Data Exploration Example #1: get_trips(query)"
   ]
  },
  {
   "cell_type": "markdown",
   "metadata": {},
   "source": [
    "The get_trips() function allows us to find all rides that have occured in a specific time range. Note, however, that you can only search for trips that happen in the current simulation and rides that happened in the past.\n",
    "\n",
    "<strong>Function: get_trips(query)</strong>\n",
    "<ul>\n",
    "    <li>start (str): the date and time you want to start searching from, in format %m/%d/%Y %H:%M A/PM</li>\n",
    "        <ul>\n",
    "            <li>Example: \"03/04/2019 5:00PM\"</li>\n",
    "        </ul>\n",
    "    <li>end (str): the date and time you want to end the search on, in format %m/%d/%Y %H:%M A/PM</li>\n",
    "    <li>limit (int): maximum number of taxi rides to return</li>\n",
    "</ul>"
   ]
  },
  {
   "cell_type": "code",
   "execution_count": 59,
   "metadata": {
    "collapsed": false
   },
   "outputs": [
    {
     "data": {
      "text/plain": [
       "{'length': 1,\n",
       " 'response': [{'company': 'Bauer Taxi Service',\n",
       "   'dropoff_centroid_latitude': '41.880994471',\n",
       "   'dropoff_centroid_longitude': '-87.632746489',\n",
       "   'dropoff_community_area': '32',\n",
       "   'entry_idx': 0,\n",
       "   'extras': '0',\n",
       "   'fare': '5',\n",
       "   'pickup_centroid_latitude': '41.880994471',\n",
       "   'pickup_centroid_longitude': '-87.632746489',\n",
       "   'pickup_community_area': '32',\n",
       "   'taxi_id': '548bfc030e169c239e690606d2e6df8c2a2a240a38a424eff375e8388b8766604b872d29bc26e4353388b2d2e9b819a7a39053764d7d648f4dab989b0c337841',\n",
       "   'tips': '4',\n",
       "   'tolls': '0',\n",
       "   'trip_end_timestamp': '2019-03-01T20:00:00',\n",
       "   'trip_id': '0000aa700985648027b46d3fe8bf93fbaea4b4fa',\n",
       "   'trip_miles': '0.8',\n",
       "   'trip_seconds': '180',\n",
       "   'trip_start_timestamp': '2019-03-01T20:00:00',\n",
       "   'trip_total': '9'}],\n",
       " 'success': True}"
      ]
     },
     "execution_count": 59,
     "metadata": {},
     "output_type": "execute_result"
    }
   ],
   "source": [
    "get_trips({\n",
    "        \"start\": \"3/01/2019 3:45 AM\",\n",
    "        \"end\": \"03/02/2019 3:46 AM\",\n",
    "        \"limit\": 1\n",
    "    })"
   ]
  },
  {
   "cell_type": "markdown",
   "metadata": {},
   "source": [
    "## Data Exploration Example 2: get_trips(query)"
   ]
  },
  {
   "cell_type": "markdown",
   "metadata": {},
   "source": [
    "Want more control over the data you get back from get_trips()? You can also use get_trips(query) to send SQL queries, so that you can futher refine the data you want to analyze.\n",
    "\n",
    "<strong>Parameters:</strong>\n",
    "<ul>\n",
    "    <li>where : Indicates the SQL WHERE clause which defines the query.</li>\n",
    "    <li>limit : Maximum number of taxi rides to return.</li>\n",
    "</ul>"
   ]
  },
  {
   "cell_type": "code",
   "execution_count": 60,
   "metadata": {
    "collapsed": false
   },
   "outputs": [
    {
     "data": {
      "text/plain": [
       "{'length': 1,\n",
       " 'response': [{'company': 'Lyft',\n",
       "   'dropoff_centroid_latitude': '41.892507781',\n",
       "   'dropoff_centroid_longitude': '-87.626214906',\n",
       "   'dropoff_community_area': '8',\n",
       "   'entry_idx': 0,\n",
       "   'extras': '0',\n",
       "   'fare': '4.34',\n",
       "   'pickup_centroid_latitude': '41.880994471',\n",
       "   'pickup_centroid_longitude': '-87.632746489',\n",
       "   'pickup_community_area': '32',\n",
       "   'taxi_id': '11a881b7291dab7fe4187136591e3c02f39adbf8d9d3f2ddefb20b564df268c96e2692fa310d85c661e0e4fe6fa223eff741e6c8708f865c3881dedb89dd80e7',\n",
       "   'tips': '2',\n",
       "   'tolls': '0',\n",
       "   'trip_end_timestamp': '2019-03-05T13:00:00',\n",
       "   'trip_id': '0003cf33702e57fe2ae53735e5e1e0ae3022fb8e',\n",
       "   'trip_miles': '0.9',\n",
       "   'trip_seconds': '600',\n",
       "   'trip_start_timestamp': '2019-03-05T12:45:00',\n",
       "   'trip_total': '6.34'}],\n",
       " 'success': True}"
      ]
     },
     "execution_count": 60,
     "metadata": {},
     "output_type": "execute_result"
    }
   ],
   "source": [
    "get_trips({\n",
    "        \"where\": \"(trip_start_timestamp BETWEEN {03/02/2019 2:00 PM} AND {03/05/2019 9:00 PM}) AND (trip_total BETWEEN 10 AND 20)\",\n",
    "        \"limit\": 1\n",
    "})"
   ]
  },
  {
   "cell_type": "markdown",
   "metadata": {},
   "source": [
    "## Data Exploration Example #3: get_count(query)"
   ]
  },
  {
   "cell_type": "markdown",
   "metadata": {
    "collapsed": true
   },
   "source": [
    "The get_count(query) function allows us to get the count of the total amount of rides that have occured in a specific time range.\n",
    "\n",
    "<strong>Function: get_count(query)</strong>\n",
    "<ul>\n",
    "    <li>start (str): the date and time you want to start searching from, in format %m/%d/%Y %H:%M A/PM</li>\n",
    "        <ul>\n",
    "            <li>Example: \"03/04/2019 5:00PM\"</li>\n",
    "        </ul>\n",
    "    <li>end (str): the date and time you want to end the search on, in format %m/%d/%Y %H:%M A/PM</li>\n",
    "</ul>"
   ]
  },
  {
   "cell_type": "code",
   "execution_count": 61,
   "metadata": {
    "collapsed": false
   },
   "outputs": [
    {
     "data": {
      "text/plain": [
       "{'count': '108390', 'success': True}"
      ]
     },
     "execution_count": 61,
     "metadata": {},
     "output_type": "execute_result"
    }
   ],
   "source": [
    "get_count({\n",
    "        \"start\": \"3/01/2019 12:00 AM\",\n",
    "        \"end\": \"03/04/2019 05:00 AM\"\n",
    "    })"
   ]
  },
  {
   "cell_type": "markdown",
   "metadata": {
    "collapsed": true
   },
   "source": [
    "## Pricing Strategy Submission Example: set_pricing(pricing) + set_zones(zones)"
   ]
  },
  {
   "cell_type": "markdown",
   "metadata": {},
   "source": [
    "Once you have finished exploring the data of a simulation, you can submit your pricing strategy using set_pricing(pricing) and set_zones(zones). <strong>You can run these functions as many times as you want, only the latest run will count! Make sure to use both methods to submit!</strong>\n",
    "\n",
    "<strong>Function: set_pricing(pricing)</strong>\n",
    "<ul>\n",
    "    <li>pricing (dict): a dictionary that contains your pricing for base, per_mile, per_minute</li>\n",
    "</ul>\n",
    "\n",
    "<strong>Function: set_zones(zones)</strong>\n",
    "<ul>\n",
    "    <li>pricing (list): a list that contains all of the power zones you want to use</li>\n",
    "</ul>"
   ]
  },
  {
   "cell_type": "code",
   "execution_count": 62,
   "metadata": {
    "collapsed": true
   },
   "outputs": [],
   "source": [
    "my_price_model = set_pricing({\n",
    "    \"base\": 3.25,\n",
    "    \"per_mile\": 0.10,\n",
    "    \"per_minute\": 0.10\n",
    "})"
   ]
  },
  {
   "cell_type": "code",
   "execution_count": 63,
   "metadata": {
    "collapsed": true
   },
   "outputs": [],
   "source": [
    "my_power_zones = set_zones([8, 31])"
   ]
  },
  {
   "cell_type": "markdown",
   "metadata": {},
   "source": [
    "# Your turn! Write your code, below."
   ]
  },
  {
   "cell_type": "code",
   "execution_count": null,
   "metadata": {
    "collapsed": true
   },
   "outputs": [],
   "source": []
  }
 ],
 "metadata": {
  "anaconda-cloud": {},
  "kernelspec": {
   "display_name": "Python [default]",
   "language": "python",
   "name": "python3"
  },
  "language_info": {
   "codemirror_mode": {
    "name": "ipython",
    "version": 3
   },
   "file_extension": ".py",
   "mimetype": "text/x-python",
   "name": "python",
   "nbconvert_exporter": "python",
   "pygments_lexer": "ipython3",
   "version": "3.5.2"
  }
 },
 "nbformat": 4,
 "nbformat_minor": 1
}
