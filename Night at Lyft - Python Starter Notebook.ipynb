{
 "cells": [
  {
   "cell_type": "markdown",
   "metadata": {},
   "source": [
    "# ACM: Night at Lyft\n",
    "\n",
    "## Python Starter Notebook"
   ]
  },
  {
   "cell_type": "markdown",
   "metadata": {},
   "source": [
    "<strong>Prompt:</strong> In a city of only taxis from the Bauer Taxi Service, your team is put in charge to earn Lyft more business and win riders over. The ACM Executive team has provided you with this starter notebook, which showcases how you can utilize the RESTful API that has 5 public endpoints that you can make calls to. These endpoints are listed below:\n",
    "\n",
    "<ul>\n",
    "    <li><strong>/time:</strong> GET</li>\n",
    "        <ul>\n",
    "            <li>Returns the simulation period you are developing your pricing model for.</li>\n",
    "        </ul>\n",
    "    <li><strong>/trips:</strong> GET</li>\n",
    "        <ul>\n",
    "            <li>Returns the taxi trips that occured with the criterion specified.</li>\n",
    "        </ul>\n",
    "    <li><strong>/count:</strong> GET</li>\n",
    "        <ul>\n",
    "            <li>Returns the total amount of trips that occured during a certain time period.</li>\n",
    "        </ul>\n",
    "    <li><strong>/pricing:</strong> POST</li>\n",
    "        <ul>\n",
    "            <li>Submits your team's general pricing strategy.</li>\n",
    "        </ul>\n",
    "    <li><strong>/zones:</strong> POST</li>\n",
    "        <ul>\n",
    "            <li>Submits the second component of your pricing strategy: the areas you believe are power zones.</li>\n",
    "        </ul>\n",
    "</ul>\n",
    "\n",
    "<strong>Game Overview:</strong> There are 5 simple steps you need to follow to succeed this HackNight!\n",
    "<ol>\n",
    "    <li>Wait for a \"simulation\" (access to taxi data of a specific week and prior)</li>\n",
    "    <li>Use the endpoints with associated GET requests to do data analysis to develop your pricing model.</li>\n",
    "    <li>Submit your pricing model</li>\n",
    "    <li>View your revenue generated (the results) on the diagram shown at the end of each simulation.</li>\n",
    "    <li>Repeat this process for every simulation</li>\n",
    "</ol>"
   ]
  },
  {
   "cell_type": "markdown",
   "metadata": {},
   "source": [
    "## Learning Objective: Using a RESTful API"
   ]
  },
  {
   "cell_type": "markdown",
   "metadata": {},
   "source": [
    "An API (Application Programming Interface) is a set of methods that controls the access a programmer has to what they want to reach (in this case, the taxi dataset). Here, the Lyft HackNight API limits access to taxi data by bounding it to the simulation. What does this mean? It means that you can only access taxi data of a certain date or date range when it is within the simulation date range or prior.\n",
    "\n",
    "Now, let's get started with set up process."
   ]
  },
  {
   "cell_type": "markdown",
   "metadata": {},
   "source": [
    "### Initial Setup and Imports"
   ]
  },
  {
   "cell_type": "code",
   "execution_count": 1,
   "metadata": {},
   "outputs": [],
   "source": [
    "# Required imports\n",
    "import requests # Python's go-to HTTP request library\n",
    "from datetime import datetime"
   ]
  },
  {
   "cell_type": "code",
   "execution_count": 2,
   "metadata": {},
   "outputs": [],
   "source": [
    "# Environment and other variables for the API to know who you are\n",
    "URL = \"https://lyftserver--acmiit.repl.co\"\n",
    "TEAM = \"YOUR_TEAM_SECRET\""
   ]
  },
  {
   "cell_type": "markdown",
   "metadata": {},
   "source": [
    "### Our first GET request: /time"
   ]
  },
  {
   "cell_type": "markdown",
   "metadata": {},
   "source": [
    "Format of a GET request with Python's request library:\n",
    "\n",
    "requests.get(SERVER_URL + \"/ENDPOINT_NAME/\", params=\"{QUERY HERE}).json()"
   ]
  },
  {
   "cell_type": "code",
   "execution_count": 3,
   "metadata": {},
   "outputs": [
    {
     "data": {
      "text/plain": [
       "{'sucess': True,\n",
       " 'time': 1573365600000,\n",
       " 'message': 'The simulation is not over, the time is 11/10/2019.'}"
      ]
     },
     "execution_count": 3,
     "metadata": {},
     "output_type": "execute_result"
    }
   ],
   "source": [
    "requests.get(URL + \"/time/\").json()"
   ]
  },
  {
   "cell_type": "markdown",
   "metadata": {},
   "source": [
    "Note that the /time endpoint doesn't take any parameters, so there's no need to specify \"params\" in the method call. However, in the /trips endpoint below, we'll do just that."
   ]
  },
  {
   "cell_type": "markdown",
   "metadata": {},
   "source": [
    "### /trips endpoint"
   ]
  },
  {
   "cell_type": "markdown",
   "metadata": {},
   "source": [
    "The /trips endpoint allows us to find all trips that have occured in a specific time range. Note, however, that you can only search for trips that happen in the current simulation. We don't want you to predict the future!\n",
    "\n",
    "<strong>Endpoint: /trips</strong>\n",
    "<ul>\n",
    "    <li>team (str): the string name of your team as indicated in the \"TEAM\" variable above</li>\n",
    "    <li>start (str): the date and time you want to start searching from, in format %m/%d/%Y %H:%M A/PM</li>\n",
    "        <ul>\n",
    "            <li>Example: \"10/07/2017 5:00PM\"</li>\n",
    "        </ul>\n",
    "    <li>end (str): the date and time you want to end the search on, in format %m/%d/%Y %H:%M A/PM</li>\n",
    "    <li>limit (int): maximum number of results to return</li>\n",
    "    <li>offset (int): indicates you only want to receive data points past this index</li>\n",
    "</ul>"
   ]
  },
  {
   "cell_type": "code",
   "execution_count": 4,
   "metadata": {},
   "outputs": [
    {
     "data": {
      "text/plain": [
       "{'success': True,\n",
       " 'length': 1,\n",
       " 'response': [{'dropoff_centroid_latitude': '41.944226601',\n",
       "   'dropoff_centroid_longitude': '-87.655998182',\n",
       "   'dropoff_community_area': '6',\n",
       "   'extras': '0',\n",
       "   'fare': '4.5',\n",
       "   'pickup_centroid_latitude': '41.944226601',\n",
       "   'pickup_centroid_longitude': '-87.655998182',\n",
       "   'pickup_community_area': '6',\n",
       "   'taxi_id': 'be435bc4d6744155b3272e9edded016bd4afb34777470147a81d6a7e77f17dd155fdd830169271731a5316e9a6c565a619903ae4f116598fcfb9bf22591850a2',\n",
       "   'tips': '0',\n",
       "   'tolls': '0',\n",
       "   'trip_end_timestamp': '2019-10-20T14:45:00',\n",
       "   'trip_id': '001bf6e8b30ad25e067f639473cc8591a3ab2e4e',\n",
       "   'trip_miles': '0.5',\n",
       "   'trip_seconds': '120',\n",
       "   'trip_start_timestamp': '2019-10-20T14:45:00',\n",
       "   'trip_total': '4.5',\n",
       "   'company': 'Bauer Taxi Service',\n",
       "   'entry_idx': 0}]}"
      ]
     },
     "execution_count": 4,
     "metadata": {},
     "output_type": "execute_result"
    }
   ],
   "source": [
    "# Build the query\n",
    "trips_query = {\n",
    "    \"team\": TEAM,\n",
    "    \"start\": \"10/20/2019 2:00 PM\",\n",
    "    \"end\": \"10/20/2019 3:00 PM\",\n",
    "    \"limit\": 1\n",
    "}\n",
    "\n",
    "# Send the request\n",
    "trips_response = requests.get(URL + \"/trips/\", params=trips_query).json()\n",
    "trips_response"
   ]
  },
  {
   "cell_type": "markdown",
   "metadata": {},
   "source": [
    "The JSON (Javascript Object Notation) object we got back from our call to /trips is 1 ride that occured from 2:00 - 3:00PM. In Python, this JSON object is interpreted as a dictionary. <strong>We care about the \"response\" key.</strong> To retrieve the response, we simply use Python's dictionary bracket notation, which will give us the datapoint we want."
   ]
  },
  {
   "cell_type": "code",
   "execution_count": 5,
   "metadata": {},
   "outputs": [
    {
     "data": {
      "text/plain": [
       "[{'dropoff_centroid_latitude': '41.944226601',\n",
       "  'dropoff_centroid_longitude': '-87.655998182',\n",
       "  'dropoff_community_area': '6',\n",
       "  'extras': '0',\n",
       "  'fare': '4.5',\n",
       "  'pickup_centroid_latitude': '41.944226601',\n",
       "  'pickup_centroid_longitude': '-87.655998182',\n",
       "  'pickup_community_area': '6',\n",
       "  'taxi_id': 'be435bc4d6744155b3272e9edded016bd4afb34777470147a81d6a7e77f17dd155fdd830169271731a5316e9a6c565a619903ae4f116598fcfb9bf22591850a2',\n",
       "  'tips': '0',\n",
       "  'tolls': '0',\n",
       "  'trip_end_timestamp': '2019-10-20T14:45:00',\n",
       "  'trip_id': '001bf6e8b30ad25e067f639473cc8591a3ab2e4e',\n",
       "  'trip_miles': '0.5',\n",
       "  'trip_seconds': '120',\n",
       "  'trip_start_timestamp': '2019-10-20T14:45:00',\n",
       "  'trip_total': '4.5',\n",
       "  'company': 'Bauer Taxi Service',\n",
       "  'entry_idx': 0}]"
      ]
     },
     "execution_count": 5,
     "metadata": {},
     "output_type": "execute_result"
    }
   ],
   "source": [
    "# Gives us a list of the taxi rides that fits the criterion we wanted. Only one in here since we set limit = 1.\n",
    "trips_response[\"response\"]"
   ]
  },
  {
   "cell_type": "markdown",
   "metadata": {},
   "source": [
    "#### get_trips(query) method"
   ]
  },
  {
   "cell_type": "markdown",
   "metadata": {},
   "source": [
    "Since your goal is to look at many different taxi rides, we want to simplify things by creating a method that just takes in the query we want to process. To do this, we simply put the repeated information inside of the method that *wraps* the the actual GET request."
   ]
  },
  {
   "cell_type": "code",
   "execution_count": 6,
   "metadata": {},
   "outputs": [],
   "source": [
    "def get_trips(query):\n",
    "    query[\"team\"] = TEAM\n",
    "    response = requests.get(URL + \"/trips/\", params=query)\n",
    "    return response.json()"
   ]
  },
  {
   "cell_type": "code",
   "execution_count": 7,
   "metadata": {},
   "outputs": [
    {
     "data": {
      "text/plain": [
       "{'success': True,\n",
       " 'length': 5,\n",
       " 'response': [{'dropoff_centroid_latitude': '41.972667956',\n",
       "   'dropoff_centroid_longitude': '-87.663865496',\n",
       "   'dropoff_community_area': '3',\n",
       "   'extras': '0',\n",
       "   'fare': '17.75',\n",
       "   'pickup_centroid_latitude': '41.942577185',\n",
       "   'pickup_centroid_longitude': '-87.647078509',\n",
       "   'pickup_community_area': '6',\n",
       "   'taxi_id': 'cc5330b266a2b3e042e5bc50b1dadb4f4e03db62f8cbd1010e986946aae90f1fa60344c044657706c127b1111e0cc2d7273caa006e37c9d39aa150a34ce3b049',\n",
       "   'tips': '0',\n",
       "   'tolls': '0',\n",
       "   'trip_end_timestamp': '2019-10-20T04:15:00',\n",
       "   'trip_id': '0047a654a3e08761b1f11aa9e9ec57f7a2fc44e6',\n",
       "   'trip_miles': '4.3',\n",
       "   'trip_seconds': '1620',\n",
       "   'trip_start_timestamp': '2019-10-20T03:45:00',\n",
       "   'trip_total': '17.75',\n",
       "   'company': 'Bauer Taxi Service',\n",
       "   'entry_idx': 0},\n",
       "  {'dropoff_centroid_latitude': '41.89967018',\n",
       "   'dropoff_centroid_longitude': '-87.669837798',\n",
       "   'dropoff_community_area': '24',\n",
       "   'extras': '0',\n",
       "   'fare': '8.75',\n",
       "   'pickup_centroid_latitude': '41.89321636',\n",
       "   'pickup_centroid_longitude': '-87.63784421',\n",
       "   'pickup_community_area': '8',\n",
       "   'taxi_id': '45edad7ba091c509fcc77bad5cd772bd8eaf202bcedd4d5da0cb08dba9ce8999e603a8268436865ab3cd3ce9fe4351515d1bc7cac10e4dd7b5a5a6ec831f9c32',\n",
       "   'tips': '0',\n",
       "   'tolls': '0',\n",
       "   'trip_end_timestamp': '2019-10-20T04:00:00',\n",
       "   'trip_id': '01dc0d7dbc5a29386e77c608db484d4725dc300e',\n",
       "   'trip_miles': '0.1',\n",
       "   'trip_seconds': '300',\n",
       "   'trip_start_timestamp': '2019-10-20T03:45:00',\n",
       "   'trip_total': '8.75',\n",
       "   'company': 'Bauer Taxi Service',\n",
       "   'entry_idx': 1},\n",
       "  {'dropoff_centroid_latitude': '41.900265687',\n",
       "   'dropoff_centroid_longitude': '-87.63210922',\n",
       "   'dropoff_community_area': '8',\n",
       "   'extras': '0',\n",
       "   'fare': '5.5',\n",
       "   'pickup_centroid_latitude': '41.892042136',\n",
       "   'pickup_centroid_longitude': '-87.63186395',\n",
       "   'pickup_community_area': '8',\n",
       "   'taxi_id': '296cddcb1099b802d5ed3f470e180bd12feb786b93dd9ff417e112bc8ad7f650a21be2fad39a1776b2e5d047737ae56ba0096278519b4921a149917558a10d68',\n",
       "   'tips': '0',\n",
       "   'tolls': '0',\n",
       "   'trip_end_timestamp': '2019-10-20T03:45:00',\n",
       "   'trip_id': '01f8edd69cea6a4984d0df87b728baea25b9d3c0',\n",
       "   'trip_miles': '0.9',\n",
       "   'trip_seconds': '240',\n",
       "   'trip_start_timestamp': '2019-10-20T03:45:00',\n",
       "   'trip_total': '6',\n",
       "   'company': 'Bauer Taxi Service',\n",
       "   'entry_idx': 2},\n",
       "  {'dropoff_centroid_latitude': '41.921854911',\n",
       "   'dropoff_centroid_longitude': '-87.646210977',\n",
       "   'dropoff_community_area': '7',\n",
       "   'extras': '1',\n",
       "   'fare': '7',\n",
       "   'pickup_centroid_latitude': '41.936237179',\n",
       "   'pickup_centroid_longitude': '-87.656411531',\n",
       "   'pickup_community_area': '6',\n",
       "   'taxi_id': '8b41ae770dfb531cf4ddb95739965765cf2ae816baed23c264397e8a9abd5ad2cf775837c12efa92598e4ce1695c70ea386dc64bb28e5cdc88e8dbe290c1b40c',\n",
       "   'tips': '2',\n",
       "   'tolls': '0',\n",
       "   'trip_end_timestamp': '2019-10-20T03:45:00',\n",
       "   'trip_id': '020ee3ea689ffca27a2cda781456cfc02862f0d5',\n",
       "   'trip_miles': '1.4',\n",
       "   'trip_seconds': '360',\n",
       "   'trip_start_timestamp': '2019-10-20T03:45:00',\n",
       "   'trip_total': '10',\n",
       "   'company': 'Bauer Taxi Service',\n",
       "   'entry_idx': 3},\n",
       "  {'dropoff_centroid_latitude': '41.949829346',\n",
       "   'dropoff_centroid_longitude': '-87.64396537',\n",
       "   'dropoff_community_area': '6',\n",
       "   'extras': '0',\n",
       "   'fare': '13',\n",
       "   'pickup_centroid_latitude': '41.905857769',\n",
       "   'pickup_centroid_longitude': '-87.630865027',\n",
       "   'pickup_community_area': '8',\n",
       "   'taxi_id': '01fea6dd04ff9ae6c26502b2742bb6d4e06be62d2c009526a3edf02aafeef9a1896341f4f6440e8b4b3889dc1b587f6c99581e22bcac650ecd73e88afedc2341',\n",
       "   'tips': '0',\n",
       "   'tolls': '0',\n",
       "   'trip_end_timestamp': '2019-10-20T04:00:00',\n",
       "   'trip_id': '0210054a087a48bbfeda685c26acd64ccd2b30bd',\n",
       "   'trip_miles': '3.9',\n",
       "   'trip_seconds': '720',\n",
       "   'trip_start_timestamp': '2019-10-20T03:45:00',\n",
       "   'trip_total': '13.5',\n",
       "   'company': 'Bauer Taxi Service',\n",
       "   'entry_idx': 4}]}"
      ]
     },
     "execution_count": 7,
     "metadata": {},
     "output_type": "execute_result"
    }
   ],
   "source": [
    "# Example usage of get_trips - no need to specify the team or GET request anymore!\n",
    "get_trips({\n",
    "        \"start\": \"10/20/2019 3:45 AM\",\n",
    "        \"end\": \"10/20/2019 3:46 AM\",\n",
    "        \"limit\": 5\n",
    "    })"
   ]
  },
  {
   "cell_type": "markdown",
   "metadata": {},
   "source": [
    "#### Sending SQL queries"
   ]
  },
  {
   "cell_type": "markdown",
   "metadata": {},
   "source": [
    "The GET request for /trips can accept SQL queries when passes as strings.\n",
    "\n",
    "<strong>Parameters:</strong>\n",
    "<ul>\n",
    "    <li>team</li>\n",
    "    <li>where : Indicates the SQL WHERE clause which defines the query.</li>\n",
    "    <li>limit</li>\n",
    "</ul>"
   ]
  },
  {
   "cell_type": "code",
   "execution_count": 8,
   "metadata": {},
   "outputs": [
    {
     "data": {
      "text/plain": [
       "{'success': True,\n",
       " 'length': 1,\n",
       " 'response': [{'dropoff_centroid_latitude': '41.870607372',\n",
       "   'dropoff_centroid_longitude': '-87.622172937',\n",
       "   'dropoff_community_area': '32',\n",
       "   'extras': '1.5',\n",
       "   'fare': '7.25',\n",
       "   'pickup_centroid_latitude': '41.849246754',\n",
       "   'pickup_centroid_longitude': '-87.624135298',\n",
       "   'pickup_community_area': '33',\n",
       "   'taxi_id': '4d1dbd80c3b4c74b6441906c81e74c1150c532a88fd32572dfa9b23506ad6c388f45c453b7ddc2506042ec16187a698cd3c5f160a968286633c7bfebc8f2553f',\n",
       "   'tips': '4',\n",
       "   'tolls': '0',\n",
       "   'trip_end_timestamp': '2019-10-20T17:30:00',\n",
       "   'trip_id': '001791f85cac9569f420be00624202ab8fd63f09',\n",
       "   'trip_miles': '1.5',\n",
       "   'trip_seconds': '300',\n",
       "   'trip_start_timestamp': '2019-10-20T17:15:00',\n",
       "   'trip_total': '12.75',\n",
       "   'company': 'Bauer Taxi Service',\n",
       "   'entry_idx': 0}]}"
      ]
     },
     "execution_count": 8,
     "metadata": {},
     "output_type": "execute_result"
    }
   ],
   "source": [
    "get_trips({\n",
    "        \"where\": \"(trip_start_timestamp BETWEEN {10/20/2019 2:00 PM} AND {10/20/2019 9:00 PM}) AND (trip_total BETWEEN 10 AND 20)\",\n",
    "        \"limit\": 1\n",
    "})"
   ]
  },
  {
   "cell_type": "markdown",
   "metadata": {},
   "source": [
    "NOTE: Times are rounded off to every quarter hour. By specifying that you want the rides in between 3:00PM and 3:15PM, you're also getting back rides from 3:15PM to ~3:23PM. This is because the rides that happened at this time rounded down to 3:15PM.\n",
    "\n",
    "You might be asking... well, how do we parse this data? We'll take a look at that in the data analysis section."
   ]
  },
  {
   "cell_type": "markdown",
   "metadata": {},
   "source": [
    "### /count endpoint"
   ]
  },
  {
   "cell_type": "code",
   "execution_count": 9,
   "metadata": {},
   "outputs": [],
   "source": [
    "def get_count(query):\n",
    "    query[\"team\"] = TEAM\n",
    "    response = requests.get(URL + \"/count/\", params=query)\n",
    "    return response.json()"
   ]
  },
  {
   "cell_type": "markdown",
   "metadata": {},
   "source": [
    "#### /count example : What if our simulation lands on New Year's?"
   ]
  },
  {
   "cell_type": "code",
   "execution_count": 10,
   "metadata": {},
   "outputs": [
    {
     "name": "stdout",
     "output_type": "stream",
     "text": [
      "# of rides in 29-hour span of New Years Eve -> Day: 48389\n"
     ]
    }
   ],
   "source": [
    "# New Years\n",
    "new_years_count = get_count({\n",
    "        \"start\": \"12/31/2018 12:00 AM\",\n",
    "        \"end\": \"01/01/2019 05:00 AM\"\n",
    "    })\n",
    "print(\"# of rides in 29-hour span of New Years Eve -> Day: {}\".format(new_years_count[\"count\"]))"
   ]
  },
  {
   "cell_type": "markdown",
   "metadata": {},
   "source": [
    "## Learning Objective: Data Preprocessing and Analysis"
   ]
  },
  {
   "cell_type": "markdown",
   "metadata": {},
   "source": [
    "Before applying any data analysis to your data, it's always important to preprocess your data. This means looking for any missing values, identifying categorical variables, accounting for outlier (Y) or leverage (X) points. We'll go through the process of getting the data for a specific simulation, processing it with the stack we're familiar with (scipy), and begin some explatory data analysis on it."
   ]
  },
  {
   "cell_type": "code",
   "execution_count": 11,
   "metadata": {},
   "outputs": [
    {
     "data": {
      "text/plain": [
       "{'sucess': True,\n",
       " 'time': 1573365600000,\n",
       " 'message': 'The simulation is not over, the time is 11/10/2019.'}"
      ]
     },
     "execution_count": 11,
     "metadata": {},
     "output_type": "execute_result"
    }
   ],
   "source": [
    "# What data can we currently analyze?\n",
    "requests.get(URL + \"/time/\").json()"
   ]
  },
  {
   "cell_type": "markdown",
   "metadata": {},
   "source": [
    "Since the simulation time is 10/1/2017, we can look at data before 10/1/2017 12:00 AM. For this example analysis, we'll look at the week before the simulation time."
   ]
  },
  {
   "cell_type": "code",
   "execution_count": 12,
   "metadata": {},
   "outputs": [
    {
     "data": {
      "text/plain": [
       "{'success': True, 'count': '349665'}"
      ]
     },
     "execution_count": 12,
     "metadata": {},
     "output_type": "execute_result"
    }
   ],
   "source": [
    "# How much data should we expect?\n",
    "get_count({\n",
    "        \"start\": \"10/27/2019 12:00 AM\",\n",
    "        \"end\": \"11/3/2019 12:00 AM\"\n",
    "    })"
   ]
  },
  {
   "cell_type": "code",
   "execution_count": 13,
   "metadata": {},
   "outputs": [
    {
     "data": {
      "text/plain": [
       "689"
      ]
     },
     "execution_count": 13,
     "metadata": {},
     "output_type": "execute_result"
    }
   ],
   "source": [
    "# 1 week before the simulation time ends\n",
    "get_trips({\n",
    "        \"start\": \"10/27/2019 12:00 AM\",\n",
    "        \"end\": \"11/3/2019 12:00 AM\"\n",
    "    })[\"length\"]"
   ]
  },
  {
   "cell_type": "markdown",
   "metadata": {},
   "source": [
    "<strong>Well... that's odd.</strong> The call to /count is telling us that we should expect 342,326 taxi rides in the week of 09/24 - 10/01. However, we're only getting results back 717 trips back for the same date range call to /trips. This is because, on the backend, the Lyft RESTful API sets an internal <strong>limit</strong> of 1000 taxi rides.\n",
    "\n",
    "This presents an interesting problem: how do we get back all of the taxi rides of a specific time range if we're bound to just 1000? Well, we have to use the offset paramater and set it to the length 1000 to get the next set of taxi rides. To get all 342,326 rides, we would have to do this process 342 times. This is simply unreasonable, so instead we need a good <strong>sampling strategy</strong>."
   ]
  },
  {
   "cell_type": "markdown",
   "metadata": {},
   "source": [
    "### Converting JSON to Pandas DataFrame"
   ]
  },
  {
   "cell_type": "code",
   "execution_count": 14,
   "metadata": {},
   "outputs": [],
   "source": [
    "week_before = get_trips({\n",
    "        \"start\": \"10/27/2019 12:00 AM\",\n",
    "        \"end\": \"11/3/2019 12:00 AM\",\n",
    "        \"limit\": 100\n",
    "    })"
   ]
  },
  {
   "cell_type": "code",
   "execution_count": 15,
   "metadata": {},
   "outputs": [],
   "source": [
    "week_before = week_before[\"response\"]"
   ]
  },
  {
   "cell_type": "code",
   "execution_count": 16,
   "metadata": {},
   "outputs": [
    {
     "data": {
      "text/html": [
       "<div>\n",
       "<style scoped>\n",
       "    .dataframe tbody tr th:only-of-type {\n",
       "        vertical-align: middle;\n",
       "    }\n",
       "\n",
       "    .dataframe tbody tr th {\n",
       "        vertical-align: top;\n",
       "    }\n",
       "\n",
       "    .dataframe thead th {\n",
       "        text-align: right;\n",
       "    }\n",
       "</style>\n",
       "<table border=\"1\" class=\"dataframe\">\n",
       "  <thead>\n",
       "    <tr style=\"text-align: right;\">\n",
       "      <th></th>\n",
       "      <th>company</th>\n",
       "      <th>dropoff_centroid_latitude</th>\n",
       "      <th>dropoff_centroid_longitude</th>\n",
       "      <th>dropoff_community_area</th>\n",
       "      <th>entry_idx</th>\n",
       "      <th>extras</th>\n",
       "      <th>fare</th>\n",
       "      <th>pickup_centroid_latitude</th>\n",
       "      <th>pickup_centroid_longitude</th>\n",
       "      <th>pickup_community_area</th>\n",
       "      <th>taxi_id</th>\n",
       "      <th>tips</th>\n",
       "      <th>tolls</th>\n",
       "      <th>trip_end_timestamp</th>\n",
       "      <th>trip_id</th>\n",
       "      <th>trip_miles</th>\n",
       "      <th>trip_seconds</th>\n",
       "      <th>trip_start_timestamp</th>\n",
       "      <th>trip_total</th>\n",
       "    </tr>\n",
       "  </thead>\n",
       "  <tbody>\n",
       "    <tr>\n",
       "      <th>0</th>\n",
       "      <td>Bauer Taxi Service</td>\n",
       "      <td>41.879255084</td>\n",
       "      <td>-87.642648998</td>\n",
       "      <td>28</td>\n",
       "      <td>0</td>\n",
       "      <td>0</td>\n",
       "      <td>9.25</td>\n",
       "      <td>41.891971508</td>\n",
       "      <td>-87.612945414</td>\n",
       "      <td>8</td>\n",
       "      <td>77b496e34fee1f04931fa20ccfdf9ac29676b5bb383241...</td>\n",
       "      <td>0</td>\n",
       "      <td>0</td>\n",
       "      <td>2019-10-27T00:00:00</td>\n",
       "      <td>0005c5f0e853b98e15145d5c1e486edf0e1375a2</td>\n",
       "      <td>2.1</td>\n",
       "      <td>600</td>\n",
       "      <td>2019-10-27T00:00:00</td>\n",
       "      <td>9.25</td>\n",
       "    </tr>\n",
       "    <tr>\n",
       "      <th>1</th>\n",
       "      <td>Bauer Taxi Service</td>\n",
       "      <td>41.87101588</td>\n",
       "      <td>-87.631406525</td>\n",
       "      <td>32</td>\n",
       "      <td>1</td>\n",
       "      <td>0</td>\n",
       "      <td>9</td>\n",
       "      <td>41.89503345</td>\n",
       "      <td>-87.619710672</td>\n",
       "      <td>8</td>\n",
       "      <td>f451123ff58e8ef1ca5e64de85da57d7cf463c5ee73e6a...</td>\n",
       "      <td>2</td>\n",
       "      <td>0</td>\n",
       "      <td>2019-10-27T03:30:00</td>\n",
       "      <td>001336f22cfe5fcd65688092a4212634049be5db</td>\n",
       "      <td>1.8</td>\n",
       "      <td>600</td>\n",
       "      <td>2019-10-27T03:15:00</td>\n",
       "      <td>11</td>\n",
       "    </tr>\n",
       "    <tr>\n",
       "      <th>2</th>\n",
       "      <td>Bauer Taxi Service</td>\n",
       "      <td>42.001571027</td>\n",
       "      <td>-87.695012589</td>\n",
       "      <td>2</td>\n",
       "      <td>2</td>\n",
       "      <td>0</td>\n",
       "      <td>9</td>\n",
       "      <td>42.009622881</td>\n",
       "      <td>-87.670166857</td>\n",
       "      <td>1</td>\n",
       "      <td>cc5330b266a2b3e042e5bc50b1dadb4f4e03db62f8cbd1...</td>\n",
       "      <td>0</td>\n",
       "      <td>0</td>\n",
       "      <td>2019-10-27T03:15:00</td>\n",
       "      <td>000f74f315b5fed07638a9e2a576db566fa36e62</td>\n",
       "      <td>2.4</td>\n",
       "      <td>480</td>\n",
       "      <td>2019-10-27T03:15:00</td>\n",
       "      <td>9</td>\n",
       "    </tr>\n",
       "    <tr>\n",
       "      <th>3</th>\n",
       "      <td>Bauer Taxi Service</td>\n",
       "      <td>41.934762456</td>\n",
       "      <td>-87.639853859</td>\n",
       "      <td>6</td>\n",
       "      <td>3</td>\n",
       "      <td>1</td>\n",
       "      <td>12.25</td>\n",
       "      <td>41.892042136</td>\n",
       "      <td>-87.63186395</td>\n",
       "      <td>8</td>\n",
       "      <td>1768c6bcff09706e1ee0a66b2053afe14107881e986f2e...</td>\n",
       "      <td>3</td>\n",
       "      <td>0</td>\n",
       "      <td>2019-10-27T03:45:00</td>\n",
       "      <td>00084cdb7b20b0f96a100744f01bb3f7b4ef33ec</td>\n",
       "      <td>3.5</td>\n",
       "      <td>720</td>\n",
       "      <td>2019-10-27T03:30:00</td>\n",
       "      <td>16.75</td>\n",
       "    </tr>\n",
       "    <tr>\n",
       "      <th>4</th>\n",
       "      <td>Bauer Taxi Service</td>\n",
       "      <td>41.922686284</td>\n",
       "      <td>-87.649488729</td>\n",
       "      <td>7</td>\n",
       "      <td>4</td>\n",
       "      <td>0</td>\n",
       "      <td>12.5</td>\n",
       "      <td>41.878865584</td>\n",
       "      <td>-87.625192142</td>\n",
       "      <td>32</td>\n",
       "      <td>4000efc92e3eb07271a33ec1681f0d46ec447199764d62...</td>\n",
       "      <td>3.25</td>\n",
       "      <td>0</td>\n",
       "      <td>2019-10-27T10:30:00</td>\n",
       "      <td>00043b8ec257b5488aa21c3351caf8996ec0b0de</td>\n",
       "      <td>3.4</td>\n",
       "      <td>840</td>\n",
       "      <td>2019-10-27T10:15:00</td>\n",
       "      <td>16.25</td>\n",
       "    </tr>\n",
       "  </tbody>\n",
       "</table>\n",
       "</div>"
      ],
      "text/plain": [
       "              company dropoff_centroid_latitude dropoff_centroid_longitude  \\\n",
       "0  Bauer Taxi Service              41.879255084              -87.642648998   \n",
       "1  Bauer Taxi Service               41.87101588              -87.631406525   \n",
       "2  Bauer Taxi Service              42.001571027              -87.695012589   \n",
       "3  Bauer Taxi Service              41.934762456              -87.639853859   \n",
       "4  Bauer Taxi Service              41.922686284              -87.649488729   \n",
       "\n",
       "  dropoff_community_area  entry_idx extras   fare pickup_centroid_latitude  \\\n",
       "0                     28          0      0   9.25             41.891971508   \n",
       "1                     32          1      0      9              41.89503345   \n",
       "2                      2          2      0      9             42.009622881   \n",
       "3                      6          3      1  12.25             41.892042136   \n",
       "4                      7          4      0   12.5             41.878865584   \n",
       "\n",
       "  pickup_centroid_longitude pickup_community_area  \\\n",
       "0             -87.612945414                     8   \n",
       "1             -87.619710672                     8   \n",
       "2             -87.670166857                     1   \n",
       "3              -87.63186395                     8   \n",
       "4             -87.625192142                    32   \n",
       "\n",
       "                                             taxi_id  tips tolls  \\\n",
       "0  77b496e34fee1f04931fa20ccfdf9ac29676b5bb383241...     0     0   \n",
       "1  f451123ff58e8ef1ca5e64de85da57d7cf463c5ee73e6a...     2     0   \n",
       "2  cc5330b266a2b3e042e5bc50b1dadb4f4e03db62f8cbd1...     0     0   \n",
       "3  1768c6bcff09706e1ee0a66b2053afe14107881e986f2e...     3     0   \n",
       "4  4000efc92e3eb07271a33ec1681f0d46ec447199764d62...  3.25     0   \n",
       "\n",
       "    trip_end_timestamp                                   trip_id trip_miles  \\\n",
       "0  2019-10-27T00:00:00  0005c5f0e853b98e15145d5c1e486edf0e1375a2        2.1   \n",
       "1  2019-10-27T03:30:00  001336f22cfe5fcd65688092a4212634049be5db        1.8   \n",
       "2  2019-10-27T03:15:00  000f74f315b5fed07638a9e2a576db566fa36e62        2.4   \n",
       "3  2019-10-27T03:45:00  00084cdb7b20b0f96a100744f01bb3f7b4ef33ec        3.5   \n",
       "4  2019-10-27T10:30:00  00043b8ec257b5488aa21c3351caf8996ec0b0de        3.4   \n",
       "\n",
       "  trip_seconds trip_start_timestamp trip_total  \n",
       "0          600  2019-10-27T00:00:00       9.25  \n",
       "1          600  2019-10-27T03:15:00         11  \n",
       "2          480  2019-10-27T03:15:00          9  \n",
       "3          720  2019-10-27T03:30:00      16.75  \n",
       "4          840  2019-10-27T10:15:00      16.25  "
      ]
     },
     "execution_count": 16,
     "metadata": {},
     "output_type": "execute_result"
    }
   ],
   "source": [
    "import pandas as pd\n",
    "import numpy as np\n",
    "\n",
    "week_before_dataset = pd.DataFrame(week_before)\n",
    "week_before_dataset.head()"
   ]
  },
  {
   "cell_type": "markdown",
   "metadata": {},
   "source": [
    "### Finding the Average \"fare\""
   ]
  },
  {
   "cell_type": "markdown",
   "metadata": {},
   "source": [
    "Let's try to isolate the fare column so we can get the average. It's on index 6, and we can use the <strong>iloc</strong> method to capture it. The <strong>describe()</strong> function will give us summary statistics of the data."
   ]
  },
  {
   "cell_type": "code",
   "execution_count": 17,
   "metadata": {},
   "outputs": [
    {
     "data": {
      "text/plain": [
       "count     62\n",
       "unique    40\n",
       "top        7\n",
       "freq       7\n",
       "Name: fare, dtype: object"
      ]
     },
     "execution_count": 17,
     "metadata": {},
     "output_type": "execute_result"
    }
   ],
   "source": [
    "# Let's isolate the \"fare\" col\n",
    "week_before_dataset.iloc[:, 6].describe()"
   ]
  },
  {
   "cell_type": "markdown",
   "metadata": {},
   "source": [
    "Well... that's odd. Where's the mean or median output? It turns out that the data returned to us in \"fare\" is in string format, so we need to convert the column to be a float."
   ]
  },
  {
   "cell_type": "code",
   "execution_count": 18,
   "metadata": {},
   "outputs": [
    {
     "data": {
      "text/html": [
       "<div>\n",
       "<style scoped>\n",
       "    .dataframe tbody tr th:only-of-type {\n",
       "        vertical-align: middle;\n",
       "    }\n",
       "\n",
       "    .dataframe tbody tr th {\n",
       "        vertical-align: top;\n",
       "    }\n",
       "\n",
       "    .dataframe thead th {\n",
       "        text-align: right;\n",
       "    }\n",
       "</style>\n",
       "<table border=\"1\" class=\"dataframe\">\n",
       "  <thead>\n",
       "    <tr style=\"text-align: right;\">\n",
       "      <th></th>\n",
       "      <th>fare</th>\n",
       "    </tr>\n",
       "  </thead>\n",
       "  <tbody>\n",
       "    <tr>\n",
       "      <th>0</th>\n",
       "      <td>9.25</td>\n",
       "    </tr>\n",
       "    <tr>\n",
       "      <th>1</th>\n",
       "      <td>9.00</td>\n",
       "    </tr>\n",
       "    <tr>\n",
       "      <th>2</th>\n",
       "      <td>9.00</td>\n",
       "    </tr>\n",
       "    <tr>\n",
       "      <th>3</th>\n",
       "      <td>12.25</td>\n",
       "    </tr>\n",
       "    <tr>\n",
       "      <th>4</th>\n",
       "      <td>12.50</td>\n",
       "    </tr>\n",
       "  </tbody>\n",
       "</table>\n",
       "</div>"
      ],
      "text/plain": [
       "    fare\n",
       "0   9.25\n",
       "1   9.00\n",
       "2   9.00\n",
       "3  12.25\n",
       "4  12.50"
      ]
     },
     "execution_count": 18,
     "metadata": {},
     "output_type": "execute_result"
    }
   ],
   "source": [
    "fare_feature = week_before_dataset.iloc[:, [6]].copy()\n",
    "fare_feature = fare_feature.astype(\"float64\")\n",
    "fare_feature.head()"
   ]
  },
  {
   "cell_type": "code",
   "execution_count": 19,
   "metadata": {},
   "outputs": [
    {
     "data": {
      "text/plain": [
       "fare    float64\n",
       "dtype: object"
      ]
     },
     "execution_count": 19,
     "metadata": {},
     "output_type": "execute_result"
    }
   ],
   "source": [
    "# Confirming that we've converted to a float\n",
    "fare_feature.dtypes"
   ]
  },
  {
   "cell_type": "markdown",
   "metadata": {},
   "source": [
    "#### Summary Statistics"
   ]
  },
  {
   "cell_type": "code",
   "execution_count": 20,
   "metadata": {},
   "outputs": [
    {
     "data": {
      "text/html": [
       "<div>\n",
       "<style scoped>\n",
       "    .dataframe tbody tr th:only-of-type {\n",
       "        vertical-align: middle;\n",
       "    }\n",
       "\n",
       "    .dataframe tbody tr th {\n",
       "        vertical-align: top;\n",
       "    }\n",
       "\n",
       "    .dataframe thead th {\n",
       "        text-align: right;\n",
       "    }\n",
       "</style>\n",
       "<table border=\"1\" class=\"dataframe\">\n",
       "  <thead>\n",
       "    <tr style=\"text-align: right;\">\n",
       "      <th></th>\n",
       "      <th>fare</th>\n",
       "    </tr>\n",
       "  </thead>\n",
       "  <tbody>\n",
       "    <tr>\n",
       "      <th>count</th>\n",
       "      <td>62.000000</td>\n",
       "    </tr>\n",
       "    <tr>\n",
       "      <th>mean</th>\n",
       "      <td>14.233871</td>\n",
       "    </tr>\n",
       "    <tr>\n",
       "      <th>std</th>\n",
       "      <td>13.271045</td>\n",
       "    </tr>\n",
       "    <tr>\n",
       "      <th>min</th>\n",
       "      <td>4.000000</td>\n",
       "    </tr>\n",
       "    <tr>\n",
       "      <th>25%</th>\n",
       "      <td>6.750000</td>\n",
       "    </tr>\n",
       "    <tr>\n",
       "      <th>50%</th>\n",
       "      <td>9.250000</td>\n",
       "    </tr>\n",
       "    <tr>\n",
       "      <th>75%</th>\n",
       "      <td>12.500000</td>\n",
       "    </tr>\n",
       "    <tr>\n",
       "      <th>max</th>\n",
       "      <td>50.750000</td>\n",
       "    </tr>\n",
       "  </tbody>\n",
       "</table>\n",
       "</div>"
      ],
      "text/plain": [
       "            fare\n",
       "count  62.000000\n",
       "mean   14.233871\n",
       "std    13.271045\n",
       "min     4.000000\n",
       "25%     6.750000\n",
       "50%     9.250000\n",
       "75%    12.500000\n",
       "max    50.750000"
      ]
     },
     "execution_count": 20,
     "metadata": {},
     "output_type": "execute_result"
    }
   ],
   "source": [
    "fare_feature.describe()"
   ]
  },
  {
   "cell_type": "markdown",
   "metadata": {},
   "source": [
    "### Finding the Most Common Zone"
   ]
  },
  {
   "cell_type": "markdown",
   "metadata": {},
   "source": [
    "Power zones are areas you can configure that require riders to pay an extra cost to take a Lyft, but with the benefit of it coming faster than, say, a taxi. The zone mappings can be seen in the <strong>\"dropoff_community_area\"</strong> feature. Let's try to find the most common zone, and then simply use that as the only power zone we want to apply for this simulation's pricing model."
   ]
  },
  {
   "cell_type": "code",
   "execution_count": 21,
   "metadata": {},
   "outputs": [
    {
     "data": {
      "text/plain": [
       "count     62\n",
       "unique    12\n",
       "top        8\n",
       "freq      25\n",
       "Name: dropoff_community_area, dtype: object"
      ]
     },
     "execution_count": 21,
     "metadata": {},
     "output_type": "execute_result"
    }
   ],
   "source": [
    "week_before_dataset.iloc[:, 3].describe()"
   ]
  },
  {
   "cell_type": "markdown",
   "metadata": {},
   "source": [
    "Let's take the average fare divided by 2 we found in the last section, coupled with the most frequent zone, and set those as the fares for the Lyft and power zones list, respectively!"
   ]
  },
  {
   "cell_type": "code",
   "execution_count": 22,
   "metadata": {},
   "outputs": [],
   "source": [
    "def set_pricing(pricing):\n",
    "    query = pricing;\n",
    "    query[\"team\"] = TEAM;\n",
    "    response = requests.post(URL + \"/pricing/\", params=query)\n",
    "    return response.json()"
   ]
  },
  {
   "cell_type": "code",
   "execution_count": 23,
   "metadata": {},
   "outputs": [],
   "source": [
    "def set_zones(zones):\n",
    "    zone_list = (\",\").join(str(z) for z in zones)\n",
    "    query = {\n",
    "        \"team\": TEAM,\n",
    "        \"zones\": zone_list\n",
    "    }\n",
    "    response = requests.post(URL + \"/zones/\", params=query)\n",
    "    return response.json()"
   ]
  },
  {
   "cell_type": "code",
   "execution_count": 24,
   "metadata": {},
   "outputs": [],
   "source": [
    "my_price_model = set_pricing({\n",
    "    \"base\": 17.24 / 2,\n",
    "    \"pickup\": 0.00,\n",
    "    \"per_mile\": 0.10,\n",
    "    \"per_minute\": 0.10\n",
    "})"
   ]
  },
  {
   "cell_type": "code",
   "execution_count": 25,
   "metadata": {},
   "outputs": [],
   "source": [
    "my_power_zones = set_zones([8])"
   ]
  }
 ],
 "metadata": {
  "anaconda-cloud": {},
  "kernelspec": {
   "display_name": "Python 3",
   "language": "python",
   "name": "python3"
  },
  "language_info": {
   "codemirror_mode": {
    "name": "ipython",
    "version": 3
   },
   "file_extension": ".py",
   "mimetype": "text/x-python",
   "name": "python",
   "nbconvert_exporter": "python",
   "pygments_lexer": "ipython3",
   "version": "3.6.1"
  },
  "varInspector": {
   "cols": {
    "lenName": 16,
    "lenType": 16,
    "lenVar": 40
   },
   "kernels_config": {
    "python": {
     "delete_cmd_postfix": "",
     "delete_cmd_prefix": "del ",
     "library": "var_list.py",
     "varRefreshCmd": "print(var_dic_list())"
    },
    "r": {
     "delete_cmd_postfix": ") ",
     "delete_cmd_prefix": "rm(",
     "library": "var_list.r",
     "varRefreshCmd": "cat(var_dic_list()) "
    }
   },
   "types_to_exclude": [
    "module",
    "function",
    "builtin_function_or_method",
    "instance",
    "_Feature"
   ],
   "window_display": false
  }
 },
 "nbformat": 4,
 "nbformat_minor": 1
}
